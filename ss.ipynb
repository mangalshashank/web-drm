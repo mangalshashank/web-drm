{
 "cells": [
  {
   "cell_type": "code",
   "execution_count": 7,
   "metadata": {},
   "outputs": [],
   "source": [
    "def genData(data):\n",
    "    newd = []\n",
    "    for i in data:\n",
    "        newd.append(format(ord(i), '08b'))\n",
    "    return newd"
   ]
  },
  {
   "cell_type": "code",
   "execution_count": 8,
   "metadata": {},
   "outputs": [],
   "source": [
    "import random\n",
    "def create_sequence(size, key):\n",
    "    sequence = []\n",
    "    rnd = random.Random(key)\n",
    "    for i in range(size):\n",
    "        sequence.append(rnd.randint(1, 4))\n",
    "    return sequence"
   ]
  },
  {
   "cell_type": "code",
   "execution_count": 9,
   "metadata": {},
   "outputs": [],
   "source": [
    "def modPix(pix, data, key):\n",
    "    datalist = genData(data)\n",
    "    lendata = len(datalist)\n",
    "    imdata = iter(pix)\n",
    "    seq = create_sequence(len(pix), key)\n",
    "    idx = 0\n",
    "\n",
    "    for i in range(lendata):\n",
    "        pix = [value for value in imdata.__next__()[:3] + imdata.__next__()[:3] + imdata.__next__()[:3]]\n",
    "        for j in range(0, 8):\n",
    "            if (datalist[i][j] == '0' and pix[j]% 2 != 0):\n",
    "                pix[j] -= seq[idx]\n",
    "            elif (datalist[i][j] == '1' and pix[j] % 2 == 0):\n",
    "                if(pix[j] != 0):\n",
    "                    pix[j] += seq[idx]\n",
    "                else:\n",
    "                    pix[j] += seq[idx] + 1\n",
    "            idx = (idx + 1) % len(seq)\n",
    "        if (i == lendata - 1):\n",
    "            if (pix[-1] % 2 == 0):\n",
    "                if(pix[-1] != 0):\n",
    "                    pix[-1] -= seq[idx]\n",
    "                else:\n",
    "                    pix[-1] += seq[idx] + 1\n",
    "            else:\n",
    "                pix[-1] += seq[idx]\n",
    "        else:\n",
    "            if (pix[-1] % 2 != 0):\n",
    "                pix[-1] -= seq[idx]\n",
    "            else:\n",
    "                pix[-1] += seq[idx]\n",
    "        pix = tuple(pix)\n",
    "        yield pix[0:3]\n",
    "        yield pix[3:6]\n",
    "        yield pix[6:9]\n"
   ]
  },
  {
   "cell_type": "code",
   "execution_count": 10,
   "metadata": {},
   "outputs": [],
   "source": [
    "from PIL import Image\n",
    "\n",
    "def encode(image,data, key):\n",
    "    image = Imgae.open(image)\n",
    "    #newimg = image.copy()\n",
    "    \n",
    "    #encode_enc(newimg, data, key)\n",
    "    # res = str(hashlib.md5((newimg).tobytes()).hexdigest())\n",
    "    # tx_hash = md.contract.functions.setPayload(res).transact()\n",
    "    # tx_hash = 'tx_hash: {}'.format(tx_hash.hex())\n",
    "    return newimg\n",
    "\n"
   ]
  },
  {
   "cell_type": "code",
   "execution_count": 11,
   "metadata": {},
   "outputs": [],
   "source": [
    "def xor(a, b):\n",
    "    # Perform XOR operation on two binary strings of equal length\n",
    "    # and return the resulting binary string.\n",
    "    return ''.join(str(int(x) ^ int(y)) for x, y in zip(a, b))\n",
    "\n",
    "def decode(image, key):\n",
    "    data = ''\n",
    "    imgdata = iter(image.getdata())\n",
    "    spread_seq = create_sequence(len(image.getdata()),key)\n",
    "    while (True):\n",
    "        pixels = [value for value in imgdata.__next__()[:3] + imgdata.__next__()[:3] + imgdata.__next__()[:3]]\n",
    "        binstr = ''\n",
    "        for i in pixels[:8]:\n",
    "            if (i % 2 == 0):\n",
    "                binstr += '0'\n",
    "            else:\n",
    "                binstr += '1'\n",
    "        binstr = xor(binstr, spread_seq[:len(binstr)])\n",
    "        spread_seq = spread_seq[len(binstr):]\n",
    "        data += chr(int(binstr, 2))\n",
    "        if (pixels[-1] % 2 != 0):\n",
    "            return data\n"
   ]
  }
 ],
 "metadata": {
  "kernelspec": {
   "display_name": "Python 3",
   "language": "python",
   "name": "python3"
  },
  "language_info": {
   "codemirror_mode": {
    "name": "ipython",
    "version": 3
   },
   "file_extension": ".py",
   "mimetype": "text/x-python",
   "name": "python",
   "nbconvert_exporter": "python",
   "pygments_lexer": "ipython3",
   "version": "3.9.13"
  },
  "orig_nbformat": 4
 },
 "nbformat": 4,
 "nbformat_minor": 2
}
